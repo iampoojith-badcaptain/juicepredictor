{
 "cells": [
  {
   "cell_type": "code",
   "execution_count": null,
   "id": "13093b90-89f8-40f2-af27-c4884fdadf0a",
   "metadata": {},
   "outputs": [],
   "source": [
    "import pandas as pd\n",
    "import numpy as np\n",
    "import seaborn as seababy\n",
    "import matplotlib as matty\n",
    "pepsi_data = pd.read_csv('/kaggle/input/pepsico-products-details-180-products/pepsico_products.csv')\n",
    "data = pepsi_data.copy()"
   ]
  },
  {
   "cell_type": "code",
   "execution_count": null,
   "id": "1948bdd5-67dc-4acd-9d22-e9aaacfe141c",
   "metadata": {},
   "outputs": [],
   "source": [
    "print(data.head(10))\n",
    "print(data.shape)\n",
    "print(data.info())"
   ]
  },
  {
   "cell_type": "code",
   "execution_count": null,
   "id": "4a57cffb-77ce-4bc9-8981-845f19e19478",
   "metadata": {},
   "outputs": [],
   "source": [
    "print(data.columns)"
   ]
  },
  {
   "cell_type": "code",
   "execution_count": null,
   "id": "f7e2f664-26d0-4958-bef4-02dff88a2478",
   "metadata": {},
   "outputs": [],
   "source": [
    "print(np.unique(data['Category']))\n",
    "print(len(np.unique(data['Category'])))\n",
    "print(np.unique(data['Region Served']))"
   ]
  },
  {
   "cell_type": "code",
   "execution_count": null,
   "id": "589f1dc5-5e77-4cca-b31d-56117be90f87",
   "metadata": {},
   "outputs": [],
   "source": [
    "region = pd.crosstab(index = data['Region Served'],\n",
    "                    columns = 'count',\n",
    "                    normalize=True)\n",
    "print(region)"
   ]
  },
  {
   "cell_type": "code",
   "execution_count": null,
   "id": "d268f5e0-80ec-4cc2-83c6-9bec9544bf03",
   "metadata": {},
   "outputs": [],
   "source": [
    "category = pd.crosstab(index = data['Category'],\n",
    "                    columns = 'count',\n",
    "                    normalize=True)\n",
    "print(category)"
   ]
  },
  {
   "cell_type": "code",
   "execution_count": null,
   "id": "97448270-12ce-46b6-9ce9-563d8d7823cd",
   "metadata": {},
   "outputs": [],
   "source": [
    "reg_cat=pd.crosstab( index=data['Region Served'],\n",
    "                   columns = data['Category'],\n",
    "                   margins=True,\n",
    "                   normalize='index')\n",
    "print(reg_cat)"
   ]
  }
 ],
 "metadata": {
  "kernelspec": {
   "display_name": "Python [conda env:base] *",
   "language": "python",
   "name": "conda-base-py"
  },
  "language_info": {
   "codemirror_mode": {
    "name": "ipython",
    "version": 3
   },
   "file_extension": ".py",
   "mimetype": "text/x-python",
   "name": "python",
   "nbconvert_exporter": "python",
   "pygments_lexer": "ipython3",
   "version": "3.12.7"
  }
 },
 "nbformat": 4,
 "nbformat_minor": 5
}
